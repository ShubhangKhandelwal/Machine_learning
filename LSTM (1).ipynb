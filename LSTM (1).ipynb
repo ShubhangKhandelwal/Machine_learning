{
 "cells": [
  {
   "cell_type": "code",
   "execution_count": 3,
   "id": "527feb9f",
   "metadata": {},
   "outputs": [],
   "source": [
    "import numpy as np\n",
    "import matplotlib.pyplot as plt\n",
    "plt.style.use('fivethirtyeight')\n",
    "import pandas as pd\n",
    "from sklearn.preprocessing import MinMaxScaler\n",
    "from keras.models import Sequential\n",
    "from keras.layers import Dense, LSTM, Dropout, GRU, Bidirectional\n",
    "from tensorflow.keras.optimizers import SGD\n",
    "import math\n",
    "from sklearn.metrics import mean_squared_error\n"
   ]
  },
  {
   "cell_type": "code",
   "execution_count": 4,
   "id": "ead89981",
   "metadata": {},
   "outputs": [],
   "source": [
    "def plot_prediction(test,prediction):\n",
    "    plt.plot(test,color='red',label=\"Real IBM Stock Price\")\n",
    "    plt.plot(prediction, color=\"blue\",label=\"predicted IBM Stock price\")\n",
    "    plt.title(\"IBM Stock Price Prediction\")\n",
    "    plt.xlabel(\"Time\")\n",
    "    plt.ylabel(\"IBM Stock Price\")\n",
    "    plt.legend()\n",
    "    plt.show()"
   ]
  },
  {
   "cell_type": "code",
   "execution_count": 70,
   "id": "2b31d6f7",
   "metadata": {},
   "outputs": [],
   "source": [
    "def return_rmse(test,predicted):\n",
    "    rmse = math.sqrt(mean_squared_error(test,predicted))\n",
    "    print(\"The root mean sqaured error is {}.\".format(rmse))"
   ]
  },
  {
   "cell_type": "code",
   "execution_count": 7,
   "id": "36a97df7",
   "metadata": {},
   "outputs": [],
   "source": [
    "df = pd.read_csv(\"C:/Users/Shubhang/Downloads/AABA_2006-01-01_to_2018-01-01.csv\",index_col='Date',parse_dates=[\"Date\"])"
   ]
  },
  {
   "cell_type": "code",
   "execution_count": 8,
   "id": "9f6f17ed",
   "metadata": {},
   "outputs": [
    {
     "data": {
      "text/html": [
       "<div>\n",
       "<style scoped>\n",
       "    .dataframe tbody tr th:only-of-type {\n",
       "        vertical-align: middle;\n",
       "    }\n",
       "\n",
       "    .dataframe tbody tr th {\n",
       "        vertical-align: top;\n",
       "    }\n",
       "\n",
       "    .dataframe thead th {\n",
       "        text-align: right;\n",
       "    }\n",
       "</style>\n",
       "<table border=\"1\" class=\"dataframe\">\n",
       "  <thead>\n",
       "    <tr style=\"text-align: right;\">\n",
       "      <th></th>\n",
       "      <th>Open</th>\n",
       "      <th>High</th>\n",
       "      <th>Low</th>\n",
       "      <th>Close</th>\n",
       "      <th>Volume</th>\n",
       "      <th>Name</th>\n",
       "    </tr>\n",
       "    <tr>\n",
       "      <th>Date</th>\n",
       "      <th></th>\n",
       "      <th></th>\n",
       "      <th></th>\n",
       "      <th></th>\n",
       "      <th></th>\n",
       "      <th></th>\n",
       "    </tr>\n",
       "  </thead>\n",
       "  <tbody>\n",
       "    <tr>\n",
       "      <th>2006-01-03</th>\n",
       "      <td>39.69</td>\n",
       "      <td>41.22</td>\n",
       "      <td>38.79</td>\n",
       "      <td>40.91</td>\n",
       "      <td>24232729</td>\n",
       "      <td>AABA</td>\n",
       "    </tr>\n",
       "    <tr>\n",
       "      <th>2006-01-04</th>\n",
       "      <td>41.22</td>\n",
       "      <td>41.90</td>\n",
       "      <td>40.77</td>\n",
       "      <td>40.97</td>\n",
       "      <td>20553479</td>\n",
       "      <td>AABA</td>\n",
       "    </tr>\n",
       "    <tr>\n",
       "      <th>2006-01-05</th>\n",
       "      <td>40.93</td>\n",
       "      <td>41.73</td>\n",
       "      <td>40.85</td>\n",
       "      <td>41.53</td>\n",
       "      <td>12829610</td>\n",
       "      <td>AABA</td>\n",
       "    </tr>\n",
       "    <tr>\n",
       "      <th>2006-01-06</th>\n",
       "      <td>42.88</td>\n",
       "      <td>43.57</td>\n",
       "      <td>42.80</td>\n",
       "      <td>43.21</td>\n",
       "      <td>29422828</td>\n",
       "      <td>AABA</td>\n",
       "    </tr>\n",
       "    <tr>\n",
       "      <th>2006-01-09</th>\n",
       "      <td>43.10</td>\n",
       "      <td>43.66</td>\n",
       "      <td>42.82</td>\n",
       "      <td>43.42</td>\n",
       "      <td>16268338</td>\n",
       "      <td>AABA</td>\n",
       "    </tr>\n",
       "  </tbody>\n",
       "</table>\n",
       "</div>"
      ],
      "text/plain": [
       "             Open   High    Low  Close    Volume  Name\n",
       "Date                                                  \n",
       "2006-01-03  39.69  41.22  38.79  40.91  24232729  AABA\n",
       "2006-01-04  41.22  41.90  40.77  40.97  20553479  AABA\n",
       "2006-01-05  40.93  41.73  40.85  41.53  12829610  AABA\n",
       "2006-01-06  42.88  43.57  42.80  43.21  29422828  AABA\n",
       "2006-01-09  43.10  43.66  42.82  43.42  16268338  AABA"
      ]
     },
     "execution_count": 8,
     "metadata": {},
     "output_type": "execute_result"
    }
   ],
   "source": [
    "df.head()"
   ]
  },
  {
   "cell_type": "code",
   "execution_count": 9,
   "id": "ce2cb3a4",
   "metadata": {
    "scrolled": true
   },
   "outputs": [
    {
     "name": "stdout",
     "output_type": "stream",
     "text": [
      "<class 'pandas.core.frame.DataFrame'>\n",
      "DatetimeIndex: 3019 entries, 2006-01-03 to 2017-12-29\n",
      "Data columns (total 6 columns):\n",
      " #   Column  Non-Null Count  Dtype  \n",
      "---  ------  --------------  -----  \n",
      " 0   Open    3019 non-null   float64\n",
      " 1   High    3019 non-null   float64\n",
      " 2   Low     3019 non-null   float64\n",
      " 3   Close   3019 non-null   float64\n",
      " 4   Volume  3019 non-null   int64  \n",
      " 5   Name    3019 non-null   object \n",
      "dtypes: float64(4), int64(1), object(1)\n",
      "memory usage: 165.1+ KB\n"
     ]
    }
   ],
   "source": [
    "df.info()"
   ]
  },
  {
   "cell_type": "code",
   "execution_count": 10,
   "id": "e7f1ae6a",
   "metadata": {},
   "outputs": [],
   "source": [
    "import seaborn as sns"
   ]
  },
  {
   "cell_type": "code",
   "execution_count": 18,
   "id": "81f9a4ee",
   "metadata": {},
   "outputs": [
    {
     "data": {
      "text/plain": [
       "Open      0\n",
       "High      0\n",
       "Low       0\n",
       "Close     0\n",
       "Volume    0\n",
       "Name      0\n",
       "dtype: int64"
      ]
     },
     "execution_count": 18,
     "metadata": {},
     "output_type": "execute_result"
    }
   ],
   "source": [
    "df.isna().sum()"
   ]
  },
  {
   "cell_type": "code",
   "execution_count": 20,
   "id": "5f329465",
   "metadata": {},
   "outputs": [
    {
     "data": {
      "text/plain": [
       "Open      float64\n",
       "High      float64\n",
       "Low       float64\n",
       "Close     float64\n",
       "Volume      int64\n",
       "Name       object\n",
       "dtype: object"
      ]
     },
     "execution_count": 20,
     "metadata": {},
     "output_type": "execute_result"
    }
   ],
   "source": [
    "df.dtypes"
   ]
  },
  {
   "cell_type": "code",
   "execution_count": 23,
   "id": "feb3884f",
   "metadata": {},
   "outputs": [
    {
     "data": {
      "text/html": [
       "<div>\n",
       "<style scoped>\n",
       "    .dataframe tbody tr th:only-of-type {\n",
       "        vertical-align: middle;\n",
       "    }\n",
       "\n",
       "    .dataframe tbody tr th {\n",
       "        vertical-align: top;\n",
       "    }\n",
       "\n",
       "    .dataframe thead th {\n",
       "        text-align: right;\n",
       "    }\n",
       "</style>\n",
       "<table border=\"1\" class=\"dataframe\">\n",
       "  <thead>\n",
       "    <tr style=\"text-align: right;\">\n",
       "      <th></th>\n",
       "      <th>Open</th>\n",
       "      <th>High</th>\n",
       "      <th>Low</th>\n",
       "      <th>Close</th>\n",
       "      <th>Volume</th>\n",
       "      <th>Name</th>\n",
       "    </tr>\n",
       "    <tr>\n",
       "      <th>Date</th>\n",
       "      <th></th>\n",
       "      <th></th>\n",
       "      <th></th>\n",
       "      <th></th>\n",
       "      <th></th>\n",
       "      <th></th>\n",
       "    </tr>\n",
       "  </thead>\n",
       "  <tbody>\n",
       "    <tr>\n",
       "      <th>2006-01-03</th>\n",
       "      <td>39.69</td>\n",
       "      <td>41.22</td>\n",
       "      <td>38.79</td>\n",
       "      <td>40.91</td>\n",
       "      <td>24232729</td>\n",
       "      <td>AABA</td>\n",
       "    </tr>\n",
       "    <tr>\n",
       "      <th>2006-01-04</th>\n",
       "      <td>41.22</td>\n",
       "      <td>41.90</td>\n",
       "      <td>40.77</td>\n",
       "      <td>40.97</td>\n",
       "      <td>20553479</td>\n",
       "      <td>AABA</td>\n",
       "    </tr>\n",
       "    <tr>\n",
       "      <th>2006-01-05</th>\n",
       "      <td>40.93</td>\n",
       "      <td>41.73</td>\n",
       "      <td>40.85</td>\n",
       "      <td>41.53</td>\n",
       "      <td>12829610</td>\n",
       "      <td>AABA</td>\n",
       "    </tr>\n",
       "    <tr>\n",
       "      <th>2006-01-06</th>\n",
       "      <td>42.88</td>\n",
       "      <td>43.57</td>\n",
       "      <td>42.80</td>\n",
       "      <td>43.21</td>\n",
       "      <td>29422828</td>\n",
       "      <td>AABA</td>\n",
       "    </tr>\n",
       "    <tr>\n",
       "      <th>2006-01-09</th>\n",
       "      <td>43.10</td>\n",
       "      <td>43.66</td>\n",
       "      <td>42.82</td>\n",
       "      <td>43.42</td>\n",
       "      <td>16268338</td>\n",
       "      <td>AABA</td>\n",
       "    </tr>\n",
       "    <tr>\n",
       "      <th>...</th>\n",
       "      <td>...</td>\n",
       "      <td>...</td>\n",
       "      <td>...</td>\n",
       "      <td>...</td>\n",
       "      <td>...</td>\n",
       "      <td>...</td>\n",
       "    </tr>\n",
       "    <tr>\n",
       "      <th>2017-12-22</th>\n",
       "      <td>71.42</td>\n",
       "      <td>71.87</td>\n",
       "      <td>71.22</td>\n",
       "      <td>71.58</td>\n",
       "      <td>10979165</td>\n",
       "      <td>AABA</td>\n",
       "    </tr>\n",
       "    <tr>\n",
       "      <th>2017-12-26</th>\n",
       "      <td>70.94</td>\n",
       "      <td>71.39</td>\n",
       "      <td>69.63</td>\n",
       "      <td>69.86</td>\n",
       "      <td>8542802</td>\n",
       "      <td>AABA</td>\n",
       "    </tr>\n",
       "    <tr>\n",
       "      <th>2017-12-27</th>\n",
       "      <td>69.77</td>\n",
       "      <td>70.49</td>\n",
       "      <td>69.69</td>\n",
       "      <td>70.06</td>\n",
       "      <td>6345124</td>\n",
       "      <td>AABA</td>\n",
       "    </tr>\n",
       "    <tr>\n",
       "      <th>2017-12-28</th>\n",
       "      <td>70.12</td>\n",
       "      <td>70.32</td>\n",
       "      <td>69.51</td>\n",
       "      <td>69.82</td>\n",
       "      <td>7556877</td>\n",
       "      <td>AABA</td>\n",
       "    </tr>\n",
       "    <tr>\n",
       "      <th>2017-12-29</th>\n",
       "      <td>69.79</td>\n",
       "      <td>70.13</td>\n",
       "      <td>69.43</td>\n",
       "      <td>69.85</td>\n",
       "      <td>6613070</td>\n",
       "      <td>AABA</td>\n",
       "    </tr>\n",
       "  </tbody>\n",
       "</table>\n",
       "<p>3019 rows × 6 columns</p>\n",
       "</div>"
      ],
      "text/plain": [
       "             Open   High    Low  Close    Volume  Name\n",
       "Date                                                  \n",
       "2006-01-03  39.69  41.22  38.79  40.91  24232729  AABA\n",
       "2006-01-04  41.22  41.90  40.77  40.97  20553479  AABA\n",
       "2006-01-05  40.93  41.73  40.85  41.53  12829610  AABA\n",
       "2006-01-06  42.88  43.57  42.80  43.21  29422828  AABA\n",
       "2006-01-09  43.10  43.66  42.82  43.42  16268338  AABA\n",
       "...           ...    ...    ...    ...       ...   ...\n",
       "2017-12-22  71.42  71.87  71.22  71.58  10979165  AABA\n",
       "2017-12-26  70.94  71.39  69.63  69.86   8542802  AABA\n",
       "2017-12-27  69.77  70.49  69.69  70.06   6345124  AABA\n",
       "2017-12-28  70.12  70.32  69.51  69.82   7556877  AABA\n",
       "2017-12-29  69.79  70.13  69.43  69.85   6613070  AABA\n",
       "\n",
       "[3019 rows x 6 columns]"
      ]
     },
     "execution_count": 23,
     "metadata": {},
     "output_type": "execute_result"
    }
   ],
   "source": [
    "df"
   ]
  },
  {
   "cell_type": "code",
   "execution_count": 30,
   "id": "2ded6435",
   "metadata": {},
   "outputs": [],
   "source": [
    "trainning_set = df[:'2016'].iloc[:,1:2].values\n",
    "test_set = df['2017':].iloc[:,1:2].values"
   ]
  },
  {
   "cell_type": "code",
   "execution_count": 36,
   "id": "4bc12569",
   "metadata": {},
   "outputs": [
    {
     "data": {
      "text/plain": [
       "2768"
      ]
     },
     "execution_count": 36,
     "metadata": {},
     "output_type": "execute_result"
    }
   ],
   "source": [
    "len(trainning_set)"
   ]
  },
  {
   "cell_type": "code",
   "execution_count": 37,
   "id": "21df81f5",
   "metadata": {},
   "outputs": [
    {
     "data": {
      "text/plain": [
       "251"
      ]
     },
     "execution_count": 37,
     "metadata": {},
     "output_type": "execute_result"
    }
   ],
   "source": [
    "len(test_set)"
   ]
  },
  {
   "cell_type": "code",
   "execution_count": 47,
   "id": "a9733fca",
   "metadata": {},
   "outputs": [
    {
     "data": {
      "image/png": "[encoded data removed]",
      "text/plain": [
       "<Figure size 1152x288 with 1 Axes>"
      ]
     },
     "metadata": {},
     "output_type": "display_data"
    }
   ],
   "source": [
    "df[\"High\"][:'2016'].plot(figsize=(16,4),legend=True)\n",
    "df[\"High\"]['2017':].plot(figsize=(16,4),legend=True)\n",
    "plt.legend(['Training set (Before 2017)','Test set (2017 and beyond)'])\n",
    "plt.title('IBM stock price')\n",
    "plt.show()"
   ]
  },
  {
   "cell_type": "code",
   "execution_count": 49,
   "id": "2bd363eb",
   "metadata": {},
   "outputs": [],
   "source": [
    "sc = MinMaxScaler(feature_range=(0,1))\n",
    "training_set_scaled = sc.fit_transform(trainning_set)"
   ]
  },
  {
   "cell_type": "code",
   "execution_count": 53,
   "id": "f3a745a4",
   "metadata": {},
   "outputs": [
    {
     "data": {
      "text/plain": [
       "2768"
      ]
     },
     "execution_count": 53,
     "metadata": {},
     "output_type": "execute_result"
    }
   ],
   "source": [
    "len(training_set_scaled)"
   ]
  },
  {
   "cell_type": "code",
   "execution_count": 54,
   "id": "cc570142",
   "metadata": {},
   "outputs": [],
   "source": [
    "X_train = []\n",
    "y_train = []\n",
    "for i in range(60,len(training_set_scaled)):\n",
    "    X_train.append(training_set_scaled[i-60:i,0])\n",
    "    y_train.append(training_set_scaled[i,0])\n",
    "X_train, y_train = np.array(X_train), np.array(y_train)"
   ]
  },
  {
   "cell_type": "code",
   "execution_count": 55,
   "id": "eeffa125",
   "metadata": {},
   "outputs": [],
   "source": [
    "X_train = np.reshape(X_train, (X_train.shape[0],X_train.shape[1],1))"
   ]
  },
  {
   "cell_type": "code",
   "execution_count": 68,
   "id": "56ef7ade",
   "metadata": {},
   "outputs": [
    {
     "data": {
      "text/plain": [
       "array([[[0.73574409],\n",
       "        [0.75150672],\n",
       "        [0.74756606],\n",
       "        ...,\n",
       "        [0.52387575],\n",
       "        [0.5336115 ],\n",
       "        [0.54311544]],\n",
       "\n",
       "       [[0.75150672],\n",
       "        [0.74756606],\n",
       "        [0.7902179 ],\n",
       "        ...,\n",
       "        [0.5336115 ],\n",
       "        [0.54311544],\n",
       "        [0.54126101]],\n",
       "\n",
       "       [[0.74756606],\n",
       "        [0.7902179 ],\n",
       "        [0.79230413],\n",
       "        ...,\n",
       "        [0.54311544],\n",
       "        [0.54126101],\n",
       "        [0.53662494]],\n",
       "\n",
       "       ...,\n",
       "\n",
       "       [[0.78117756],\n",
       "        [0.78859527],\n",
       "        [0.797172  ],\n",
       "        ...,\n",
       "        [0.67941586],\n",
       "        [0.67987946],\n",
       "        [0.68567455]],\n",
       "\n",
       "       [[0.78859527],\n",
       "        [0.797172  ],\n",
       "        [0.79601298],\n",
       "        ...,\n",
       "        [0.67987946],\n",
       "        [0.68567455],\n",
       "        [0.6893834 ]],\n",
       "\n",
       "       [[0.797172  ],\n",
       "        [0.79601298],\n",
       "        [0.79276773],\n",
       "        ...,\n",
       "        [0.68567455],\n",
       "        [0.6893834 ],\n",
       "        [0.6826611 ]]])"
      ]
     },
     "execution_count": 68,
     "metadata": {},
     "output_type": "execute_result"
    }
   ],
   "source": [
    "X_train"
   ]
  },
  {
   "cell_type": "code",
   "execution_count": 65,
   "id": "36d99cdf",
   "metadata": {},
   "outputs": [
    {
     "name": "stdout",
     "output_type": "stream",
     "text": [
      "Epoch 1/50\n",
      "85/85 [==============================] - 10s 67ms/step - loss: 0.0142\n",
      "Epoch 2/50\n",
      "85/85 [==============================] - 6s 71ms/step - loss: 0.0061\n",
      "Epoch 3/50\n",
      "85/85 [==============================] - 8s 90ms/step - loss: 0.0054\n",
      "Epoch 4/50\n",
      "85/85 [==============================] - 10s 118ms/step - loss: 0.0046\n",
      "Epoch 5/50\n",
      "85/85 [==============================] - 10s 122ms/step - loss: 0.0049\n",
      "Epoch 6/50\n",
      "85/85 [==============================] - 11s 125ms/step - loss: 0.0043\n",
      "Epoch 7/50\n",
      "85/85 [==============================] - 9s 103ms/step - loss: 0.0043\n",
      "Epoch 8/50\n",
      "85/85 [==============================] - 10s 119ms/step - loss: 0.0040\n",
      "Epoch 9/50\n",
      "85/85 [==============================] - 10s 118ms/step - loss: 0.0035\n",
      "Epoch 10/50\n",
      "85/85 [==============================] - 11s 132ms/step - loss: 0.0033\n",
      "Epoch 11/50\n",
      "85/85 [==============================] - 9s 107ms/step - loss: 0.0029\n",
      "Epoch 12/50\n",
      "85/85 [==============================] - 11s 131ms/step - loss: 0.0030\n",
      "Epoch 13/50\n",
      "85/85 [==============================] - 10s 121ms/step - loss: 0.0032\n",
      "Epoch 14/50\n",
      "85/85 [==============================] - 10s 122ms/step - loss: 0.0027\n",
      "Epoch 15/50\n",
      "85/85 [==============================] - 11s 131ms/step - loss: 0.0028\n",
      "Epoch 16/50\n",
      "85/85 [==============================] - 8s 97ms/step - loss: 0.0024\n",
      "Epoch 17/50\n",
      "85/85 [==============================] - 10s 120ms/step - loss: 0.0025\n",
      "Epoch 18/50\n",
      "85/85 [==============================] - 11s 135ms/step - loss: 0.0021\n",
      "Epoch 19/50\n",
      "85/85 [==============================] - 10s 122ms/step - loss: 0.0021\n",
      "Epoch 20/50\n",
      "85/85 [==============================] - 10s 122ms/step - loss: 0.0024\n",
      "Epoch 21/50\n",
      "85/85 [==============================] - 10s 118ms/step - loss: 0.0021\n",
      "Epoch 22/50\n",
      "85/85 [==============================] - 10s 121ms/step - loss: 0.0020\n",
      "Epoch 23/50\n",
      "85/85 [==============================] - 10s 117ms/step - loss: 0.0019\n",
      "Epoch 24/50\n",
      "85/85 [==============================] - 10s 118ms/step - loss: 0.0019\n",
      "Epoch 25/50\n",
      "85/85 [==============================] - 10s 122ms/step - loss: 0.0018\n",
      "Epoch 26/50\n",
      "85/85 [==============================] - 10s 120ms/step - loss: 0.0018\n",
      "Epoch 27/50\n",
      "85/85 [==============================] - 10s 118ms/step - loss: 0.0017\n",
      "Epoch 28/50\n",
      "85/85 [==============================] - 11s 124ms/step - loss: 0.0018\n",
      "Epoch 29/50\n",
      "85/85 [==============================] - 11s 124ms/step - loss: 0.0018\n",
      "Epoch 30/50\n",
      "85/85 [==============================] - 10s 112ms/step - loss: 0.0018\n",
      "Epoch 31/50\n",
      "85/85 [==============================] - 11s 126ms/step - loss: 0.0017\n",
      "Epoch 32/50\n",
      "85/85 [==============================] - 10s 114ms/step - loss: 0.0016\n",
      "Epoch 33/50\n",
      "85/85 [==============================] - 10s 121ms/step - loss: 0.0016\n",
      "Epoch 34/50\n",
      "85/85 [==============================] - 11s 126ms/step - loss: 0.0016\n",
      "Epoch 35/50\n",
      "85/85 [==============================] - 11s 125ms/step - loss: 0.0016\n",
      "Epoch 36/50\n",
      "85/85 [==============================] - 9s 111ms/step - loss: 0.0017\n",
      "Epoch 37/50\n",
      "85/85 [==============================] - 10s 121ms/step - loss: 0.0018\n",
      "Epoch 38/50\n",
      "85/85 [==============================] - 10s 118ms/step - loss: 0.0015\n",
      "Epoch 39/50\n",
      "85/85 [==============================] - 11s 125ms/step - loss: 0.0016\n",
      "Epoch 40/50\n",
      "85/85 [==============================] - 10s 120ms/step - loss: 0.0015\n",
      "Epoch 41/50\n",
      "85/85 [==============================] - 10s 123ms/step - loss: 0.0016\n",
      "Epoch 42/50\n",
      "85/85 [==============================] - 10s 123ms/step - loss: 0.0015\n",
      "Epoch 43/50\n",
      "85/85 [==============================] - 12s 137ms/step - loss: 0.0014\n",
      "Epoch 44/50\n",
      "85/85 [==============================] - 9s 111ms/step - loss: 0.0014\n",
      "Epoch 45/50\n",
      "85/85 [==============================] - 12s 144ms/step - loss: 0.0015\n",
      "Epoch 46/50\n",
      "85/85 [==============================] - 15s 179ms/step - loss: 0.0015\n",
      "Epoch 47/50\n",
      "85/85 [==============================] - 15s 178ms/step - loss: 0.0015\n",
      "Epoch 48/50\n",
      "85/85 [==============================] - 14s 166ms/step - loss: 0.0015\n",
      "Epoch 49/50\n",
      "85/85 [==============================] - 11s 130ms/step - loss: 0.0015\n",
      "Epoch 50/50\n",
      "85/85 [==============================] - 12s 142ms/step - loss: 0.0016\n"
     ]
    },
    {
     "data": {
      "text/plain": [
       "<keras.callbacks.History at 0x270b9ec0040>"
      ]
     },
     "execution_count": 65,
     "metadata": {},
     "output_type": "execute_result"
    }
   ],
   "source": [
    "regressor = Sequential()\n",
    "# First LSTM layer with Dropout regularisation\n",
    "regressor.add(LSTM(units=100, return_sequences=True, input_shape=(X_train.shape[1],1)))\n",
    "regressor.add(Dropout(0.3))\n",
    "\n",
    "regressor.add(LSTM(units=80, return_sequences=True))\n",
    "regressor.add(Dropout(0.1))\n",
    "\n",
    "regressor.add(LSTM(units=50, return_sequences=True))\n",
    "regressor.add(Dropout(0.2))\n",
    "\n",
    "regressor.add(LSTM(units=30))\n",
    "regressor.add(Dropout(0.3))\n",
    "\n",
    "regressor.add(Dense(units=1))\n",
    "\n",
    "\n",
    "regressor.compile(optimizer='adam',loss='mean_squared_error')\n",
    "\n",
    "regressor.fit(X_train,y_train,epochs=50,batch_size=32)"
   ]
  },
  {
   "cell_type": "code",
   "execution_count": 60,
   "id": "482b4925",
   "metadata": {},
   "outputs": [],
   "source": [
    "dataset_total = pd.concat((df[\"High\"][:'2016'],df[\"High\"]['2017':]),axis=0)\n",
    "inputs = dataset_total[len(dataset_total)-len(test_set) - 60:].values\n",
    "inputs = inputs.reshape(-1,1)\n",
    "inputs  = sc.transform(inputs)"
   ]
  },
  {
   "cell_type": "code",
   "execution_count": 66,
   "id": "3497cffe",
   "metadata": {},
   "outputs": [],
   "source": [
    "X_test = []\n",
    "for i in range(60,len(inputs)):\n",
    "    X_test.append(inputs[i-60:i,0])\n",
    "X_test = np.array(X_test)\n",
    "X_test = np.reshape(X_test, (X_test.shape[0],X_test.shape[1],1))\n",
    "predicted_stock_price = regressor.predict(X_test)\n",
    "predicted_stock_price = sc.inverse_transform(predicted_stock_price)"
   ]
  },
  {
   "cell_type": "code",
   "execution_count": 67,
   "id": "8d0816be",
   "metadata": {
    "scrolled": true
   },
   "outputs": [
    {
     "data": {
      "image/png": "[encoded data removed]",
      "text/plain": [
       "<Figure size 432x288 with 1 Axes>"
      ]
     },
     "metadata": {},
     "output_type": "display_data"
    }
   ],
   "source": [
    "plot_prediction(test_set,predicted_stock_price)"
   ]
  },
  {
   "cell_type": "code",
   "execution_count": 71,
   "id": "a97de8fc",
   "metadata": {},
   "outputs": [
    {
     "name": "stdout",
     "output_type": "stream",
     "text": [
      "The root mean sqaured error is 1.3337922543779552.\n"
     ]
    }
   ],
   "source": [
    "return_rmse(test_set,predicted_stock_price)"
   ]
  },
  {
   "cell_type": "code",
   "execution_count": 76,
   "id": "55cb0939",
   "metadata": {},
   "outputs": [
    {
     "name": "stdout",
     "output_type": "stream",
     "text": [
      "Epoch 1/50\n",
      "19/19 [==============================] - 9s 215ms/step - loss: 0.0932\n",
      "Epoch 2/50\n",
      "19/19 [==============================] - 4s 196ms/step - loss: 0.0518\n",
      "Epoch 3/50\n",
      "19/19 [==============================] - 4s 224ms/step - loss: 0.0464\n",
      "Epoch 4/50\n",
      "19/19 [==============================] - 4s 202ms/step - loss: 0.0403\n",
      "Epoch 5/50\n",
      "19/19 [==============================] - 3s 179ms/step - loss: 0.0317\n",
      "Epoch 6/50\n",
      "19/19 [==============================] - 4s 189ms/step - loss: 0.0204\n",
      "Epoch 7/50\n",
      "19/19 [==============================] - 3s 182ms/step - loss: 0.0103\n",
      "Epoch 8/50\n",
      "19/19 [==============================] - 4s 201ms/step - loss: 0.0055\n",
      "Epoch 9/50\n",
      "19/19 [==============================] - 5s 267ms/step - loss: 0.0057\n",
      "Epoch 10/50\n",
      "19/19 [==============================] - 5s 246ms/step - loss: 0.0054\n",
      "Epoch 11/50\n",
      "19/19 [==============================] - 5s 282ms/step - loss: 0.0059\n",
      "Epoch 12/50\n",
      "19/19 [==============================] - 5s 276ms/step - loss: 0.0048\n",
      "Epoch 13/50\n",
      "19/19 [==============================] - 5s 235ms/step - loss: 0.0052\n",
      "Epoch 14/50\n",
      "19/19 [==============================] - 4s 234ms/step - loss: 0.0056\n",
      "Epoch 15/50\n",
      "19/19 [==============================] - 5s 235ms/step - loss: 0.0055\n",
      "Epoch 16/50\n",
      "19/19 [==============================] - 5s 262ms/step - loss: 0.0053\n",
      "Epoch 17/50\n",
      "19/19 [==============================] - 5s 257ms/step - loss: 0.0050\n",
      "Epoch 18/50\n",
      "19/19 [==============================] - 5s 256ms/step - loss: 0.0048\n",
      "Epoch 19/50\n",
      "19/19 [==============================] - 5s 256ms/step - loss: 0.0050\n",
      "Epoch 20/50\n",
      "19/19 [==============================] - 5s 264ms/step - loss: 0.0051\n",
      "Epoch 21/50\n",
      "19/19 [==============================] - 4s 229ms/step - loss: 0.0054\n",
      "Epoch 22/50\n",
      "19/19 [==============================] - 5s 256ms/step - loss: 0.0050\n",
      "Epoch 23/50\n",
      "19/19 [==============================] - 5s 262ms/step - loss: 0.0055\n",
      "Epoch 24/50\n",
      "19/19 [==============================] - 4s 232ms/step - loss: 0.0049\n",
      "Epoch 25/50\n",
      "19/19 [==============================] - 6s 290ms/step - loss: 0.0049\n",
      "Epoch 26/50\n",
      "19/19 [==============================] - 5s 266ms/step - loss: 0.0053\n",
      "Epoch 27/50\n",
      "19/19 [==============================] - 5s 255ms/step - loss: 0.0051\n",
      "Epoch 28/50\n",
      "19/19 [==============================] - 5s 258ms/step - loss: 0.0049\n",
      "Epoch 29/50\n",
      "19/19 [==============================] - 5s 274ms/step - loss: 0.0044\n",
      "Epoch 30/50\n",
      "19/19 [==============================] - 5s 263ms/step - loss: 0.0050\n",
      "Epoch 31/50\n",
      "19/19 [==============================] - 5s 275ms/step - loss: 0.0047\n",
      "Epoch 32/50\n",
      "19/19 [==============================] - 5s 246ms/step - loss: 0.0048\n",
      "Epoch 33/50\n",
      "19/19 [==============================] - 5s 272ms/step - loss: 0.0046\n",
      "Epoch 34/50\n",
      "19/19 [==============================] - 5s 248ms/step - loss: 0.0047\n",
      "Epoch 35/50\n",
      "19/19 [==============================] - 5s 269ms/step - loss: 0.0047\n",
      "Epoch 36/50\n",
      "19/19 [==============================] - 5s 271ms/step - loss: 0.0048\n",
      "Epoch 37/50\n",
      "19/19 [==============================] - 5s 278ms/step - loss: 0.0046\n",
      "Epoch 38/50\n",
      "19/19 [==============================] - 5s 254ms/step - loss: 0.0048\n",
      "Epoch 39/50\n",
      "19/19 [==============================] - 5s 251ms/step - loss: 0.0048\n",
      "Epoch 40/50\n",
      "19/19 [==============================] - 4s 202ms/step - loss: 0.0045\n",
      "Epoch 41/50\n",
      "19/19 [==============================] - 5s 271ms/step - loss: 0.0048\n",
      "Epoch 42/50\n",
      "19/19 [==============================] - 5s 252ms/step - loss: 0.0044\n",
      "Epoch 43/50\n",
      "19/19 [==============================] - 5s 247ms/step - loss: 0.0045\n",
      "Epoch 44/50\n",
      "19/19 [==============================] - 5s 256ms/step - loss: 0.0049\n",
      "Epoch 45/50\n",
      "19/19 [==============================] - 5s 254ms/step - loss: 0.0046\n",
      "Epoch 46/50\n",
      "19/19 [==============================] - 5s 252ms/step - loss: 0.0049\n",
      "Epoch 47/50\n",
      "19/19 [==============================] - 5s 262ms/step - loss: 0.0045\n",
      "Epoch 48/50\n",
      "19/19 [==============================] - 5s 258ms/step - loss: 0.0043\n",
      "Epoch 49/50\n",
      "19/19 [==============================] - 5s 267ms/step - loss: 0.0047\n",
      "Epoch 50/50\n",
      "19/19 [==============================] - 5s 259ms/step - loss: 0.0044\n"
     ]
    },
    {
     "data": {
      "text/plain": [
       "<keras.callbacks.History at 0x270cf914cd0>"
      ]
     },
     "execution_count": 76,
     "metadata": {},
     "output_type": "execute_result"
    }
   ],
   "source": [
    "regressorGRU = Sequential()\n",
    "# First GRU layer with Dropout regularisation\n",
    "regressorGRU.add(GRU(units=100, return_sequences=True, input_shape=(X_train.shape[1],1), activation='tanh'))\n",
    "regressorGRU.add(Dropout(0.3))\n",
    "# Second GRU layer\n",
    "regressorGRU.add(GRU(units=80, return_sequences=True, input_shape=(X_train.shape[1],1), activation='tanh'))\n",
    "regressorGRU.add(Dropout(0.2))\n",
    "# Third GRU layer\n",
    "regressorGRU.add(GRU(units=50, return_sequences=True, input_shape=(X_train.shape[1],1), activation='tanh'))\n",
    "regressorGRU.add(Dropout(0.1))\n",
    "# Fourth GRU layer\n",
    "regressorGRU.add(GRU(units=30, activation='tanh'))\n",
    "regressorGRU.add(Dropout(0.2))\n",
    "# The output layer\n",
    "regressorGRU.add(Dense(units=1))\n",
    "# Compiling the RNN\n",
    "regressorGRU.compile(optimizer=SGD(learning_rate=0.01, decay=1e-7, momentum=0.9, nesterov=False),loss='mean_squared_error')\n",
    "# Fitting to the training set\n",
    "regressorGRU.fit(X_train,y_train,epochs=50,batch_size=150)"
   ]
  },
  {
   "cell_type": "code",
   "execution_count": 77,
   "id": "59826ac9",
   "metadata": {},
   "outputs": [],
   "source": [
    "X_test = []\n",
    "for i in range(60,len(inputs)):\n",
    "    X_test.append(inputs[i-60:i,0])\n",
    "X_test = np.array(X_test)\n",
    "X_test = np.reshape(X_test, (X_test.shape[0],X_test.shape[1],1))\n",
    "predicted_stock_price = regressorGRU.predict(X_test)\n",
    "predicted_stock_price = sc.inverse_transform(predicted_stock_price)"
   ]
  },
  {
   "cell_type": "code",
   "execution_count": 78,
   "id": "aa08f109",
   "metadata": {},
   "outputs": [
    {
     "data": {
      "image/png": "[encoded data removed]",
      "text/plain": [
       "<Figure size 432x288 with 1 Axes>"
      ]
     },
     "metadata": {},
     "output_type": "display_data"
    }
   ],
   "source": [
    "plot_prediction(test_set,predicted_stock_price)"
   ]
  }
 ],
 "metadata": {
  "kernelspec": {
   "display_name": "Python 3",
   "language": "python",
   "name": "python3"
  },
  "language_info": {
   "codemirror_mode": {
    "name": "ipython",
    "version": 3
   },
   "file_extension": ".py",
   "mimetype": "text/x-python",
   "name": "python",
   "nbconvert_exporter": "python",
   "pygments_lexer": "ipython3",
   "version": "3.8.8"
  },
  "vp": {
   "vp_config_version": "1.0.0",
   "vp_menu_width": 273,
   "vp_note_display": false,
   "vp_note_width": 0,
   "vp_position": {
    "width": 278
   },
   "vp_section_display": false,
   "vp_signature": "VisualPython"
  }
 },
 "nbformat": 4,
 "nbformat_minor": 5
}
